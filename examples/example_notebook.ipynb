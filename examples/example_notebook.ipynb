{
 "cells": [
  {
   "cell_type": "markdown",
   "id": "d2c55f62",
   "metadata": {},
   "source": [
    "This notebook contains example usage of the slurm-magic package\n",
    "\n",
    "# Loading the package\n",
    "\n",
    "to use the magic commands defined in this package you need to first install it and than load it."
   ]
  },
  {
   "cell_type": "code",
   "execution_count": 1,
   "id": "e6019449",
   "metadata": {},
   "outputs": [],
   "source": [
    "%load_ext slurm_magic\n",
    "import warnings\n",
    "warnings.filterwarnings(\"ignore\")"
   ]
  },
  {
   "cell_type": "markdown",
   "id": "6d3301f4",
   "metadata": {},
   "source": [
    "If you also decide to make changes to the package, you can reload it"
   ]
  },
  {
   "cell_type": "code",
   "execution_count": 21,
   "id": "4ddf6650",
   "metadata": {},
   "outputs": [],
   "source": [
    "%reload_ext slurm_magic"
   ]
  },
  {
   "cell_type": "markdown",
   "id": "0f068c67",
   "metadata": {},
   "source": [
    "Now you can test whether the package is working"
   ]
  },
  {
   "cell_type": "code",
   "execution_count": 3,
   "id": "2f217eb5",
   "metadata": {},
   "outputs": [
    {
     "data": {
      "text/html": [
       "<div>\n",
       "<style scoped>\n",
       "    .dataframe tbody tr th:only-of-type {\n",
       "        vertical-align: middle;\n",
       "    }\n",
       "\n",
       "    .dataframe tbody tr th {\n",
       "        vertical-align: top;\n",
       "    }\n",
       "\n",
       "    .dataframe thead th {\n",
       "        text-align: right;\n",
       "    }\n",
       "</style>\n",
       "<table border=\"1\" class=\"dataframe\">\n",
       "  <thead>\n",
       "    <tr style=\"text-align: right;\">\n",
       "      <th></th>\n",
       "      <th>JOBID</th>\n",
       "      <th>PARTITION</th>\n",
       "      <th>NAME</th>\n",
       "      <th>USER</th>\n",
       "      <th>ST</th>\n",
       "      <th>TIME</th>\n",
       "      <th>NODES</th>\n",
       "      <th>NODELIST(REASON)</th>\n",
       "    </tr>\n",
       "  </thead>\n",
       "  <tbody>\n",
       "    <tr>\n",
       "      <th>0</th>\n",
       "      <td>16680345</td>\n",
       "      <td>plgrid</td>\n",
       "      <td>cartpole</td>\n",
       "      <td>plgjakub</td>\n",
       "      <td>R</td>\n",
       "      <td>2:09:37</td>\n",
       "      <td>1</td>\n",
       "      <td>ac0410</td>\n",
       "    </tr>\n",
       "    <tr>\n",
       "      <th>1</th>\n",
       "      <td>16685977_0</td>\n",
       "      <td>plgrid</td>\n",
       "      <td>run_arra</td>\n",
       "      <td>plgboksa</td>\n",
       "      <td>R</td>\n",
       "      <td>11:05</td>\n",
       "      <td>1</td>\n",
       "      <td>ac0590</td>\n",
       "    </tr>\n",
       "    <tr>\n",
       "      <th>2</th>\n",
       "      <td>16685977_1</td>\n",
       "      <td>plgrid</td>\n",
       "      <td>run_arra</td>\n",
       "      <td>plgboksa</td>\n",
       "      <td>R</td>\n",
       "      <td>11:05</td>\n",
       "      <td>1</td>\n",
       "      <td>ac0590</td>\n",
       "    </tr>\n",
       "    <tr>\n",
       "      <th>3</th>\n",
       "      <td>16685977_2</td>\n",
       "      <td>plgrid</td>\n",
       "      <td>run_arra</td>\n",
       "      <td>plgboksa</td>\n",
       "      <td>R</td>\n",
       "      <td>11:05</td>\n",
       "      <td>1</td>\n",
       "      <td>ac0590</td>\n",
       "    </tr>\n",
       "    <tr>\n",
       "      <th>4</th>\n",
       "      <td>16685977_3</td>\n",
       "      <td>plgrid</td>\n",
       "      <td>run_arra</td>\n",
       "      <td>plgboksa</td>\n",
       "      <td>R</td>\n",
       "      <td>11:05</td>\n",
       "      <td>1</td>\n",
       "      <td>ac0590</td>\n",
       "    </tr>\n",
       "    <tr>\n",
       "      <th>5</th>\n",
       "      <td>16685977_4</td>\n",
       "      <td>plgrid</td>\n",
       "      <td>run_arra</td>\n",
       "      <td>plgboksa</td>\n",
       "      <td>R</td>\n",
       "      <td>11:05</td>\n",
       "      <td>1</td>\n",
       "      <td>ac0590</td>\n",
       "    </tr>\n",
       "    <tr>\n",
       "      <th>6</th>\n",
       "      <td>16686032</td>\n",
       "      <td>plgrid-gp</td>\n",
       "      <td>bash</td>\n",
       "      <td>plgdwole</td>\n",
       "      <td>R</td>\n",
       "      <td>10:27</td>\n",
       "      <td>1</td>\n",
       "      <td>ag0009</td>\n",
       "    </tr>\n",
       "    <tr>\n",
       "      <th>7</th>\n",
       "      <td>16686398</td>\n",
       "      <td>plgrid-no</td>\n",
       "      <td>bash</td>\n",
       "      <td>plgabist</td>\n",
       "      <td>R</td>\n",
       "      <td>1:00</td>\n",
       "      <td>1</td>\n",
       "      <td>ac0787</td>\n",
       "    </tr>\n",
       "  </tbody>\n",
       "</table>\n",
       "</div>"
      ],
      "text/plain": [
       "        JOBID  PARTITION      NAME      USER ST     TIME  NODES  \\\n",
       "0    16680345     plgrid  cartpole  plgjakub  R  2:09:37      1   \n",
       "1  16685977_0     plgrid  run_arra  plgboksa  R    11:05      1   \n",
       "2  16685977_1     plgrid  run_arra  plgboksa  R    11:05      1   \n",
       "3  16685977_2     plgrid  run_arra  plgboksa  R    11:05      1   \n",
       "4  16685977_3     plgrid  run_arra  plgboksa  R    11:05      1   \n",
       "5  16685977_4     plgrid  run_arra  plgboksa  R    11:05      1   \n",
       "6    16686032  plgrid-gp      bash  plgdwole  R    10:27      1   \n",
       "7    16686398  plgrid-no      bash  plgabist  R     1:00      1   \n",
       "\n",
       "  NODELIST(REASON)  \n",
       "0           ac0410  \n",
       "1           ac0590  \n",
       "2           ac0590  \n",
       "3           ac0590  \n",
       "4           ac0590  \n",
       "5           ac0590  \n",
       "6           ag0009  \n",
       "7           ac0787  "
      ]
     },
     "execution_count": 3,
     "metadata": {},
     "output_type": "execute_result"
    }
   ],
   "source": [
    "%squeue"
   ]
  },
  {
   "cell_type": "markdown",
   "id": "540ccc52",
   "metadata": {},
   "source": [
    "# Running jobs"
   ]
  },
  {
   "cell_type": "markdown",
   "id": "9003c485",
   "metadata": {},
   "source": [
    "## Simple srun jobs"
   ]
  },
  {
   "cell_type": "markdown",
   "id": "79e9c628",
   "metadata": {},
   "source": [
    "you can either type the command as you would in terminal or use some python to levrage variables"
   ]
  },
  {
   "cell_type": "code",
   "execution_count": 22,
   "id": "11d7b828",
   "metadata": {},
   "outputs": [
    {
     "data": {
      "text/plain": [
       "('This is the example job output c:\\n',\n",
       " 'srun: job 16687522 queued and waiting for resources\\nsrun: job 16687522 has been allocated resources\\n')"
      ]
     },
     "execution_count": 22,
     "metadata": {},
     "output_type": "execute_result"
    }
   ],
   "source": [
    "%srun --nodes=1 --ntasks=1 --time=00:00:01 --partition=plgrid-testing --account=plglscclass24-cpu venv/bin/python3 example_job.py"
   ]
  },
  {
   "cell_type": "markdown",
   "id": "17830738",
   "metadata": {},
   "source": [
    "As you can see the output from jobs' stdout was captured and we can see the job completed sucessfully. When working with line magic you can save this output into a variable which will come in handy later"
   ]
  },
  {
   "cell_type": "code",
   "execution_count": 23,
   "id": "820f84b8",
   "metadata": {},
   "outputs": [],
   "source": [
    "example_job_result = %srun --nodes=1 --ntasks=1 --time=00:00:01 --partition=plgrid-testing --account=plglscclass24-cpu venv/bin/python3 example_job.py"
   ]
  },
  {
   "cell_type": "code",
   "execution_count": 24,
   "id": "6be83dc1",
   "metadata": {},
   "outputs": [
    {
     "name": "stdout",
     "output_type": "stream",
     "text": [
      "This is the example job output c:\n",
      "\n"
     ]
    }
   ],
   "source": [
    "print(example_job_result[0])"
   ]
  },
  {
   "cell_type": "markdown",
   "id": "78bd967a",
   "metadata": {},
   "source": [
    "## Simple sbatch jobs\n",
    "You can also run batch jobs. It is achieved through whats called a cell magic"
   ]
  },
  {
   "cell_type": "code",
   "execution_count": 25,
   "id": "50c3d6e1",
   "metadata": {},
   "outputs": [
    {
     "data": {
      "text/plain": [
       "'Submitted batch job 16687800\\n'"
      ]
     },
     "execution_count": 25,
     "metadata": {},
     "output_type": "execute_result"
    }
   ],
   "source": [
    "%%sbatch\n",
    "#!/bin/bash\n",
    "\n",
    "#SBATCH --nodes=1\n",
    "#SBATCH --ntasks=1\n",
    "#SBATCH --time=00:00:01\n",
    "#SBATCH --partition=plgrid-testing\n",
    "#SBATCH --account=plglscclass24-cpu\n",
    "\n",
    "venv/bin/python3 example_job.py"
   ]
  },
  {
   "cell_type": "code",
   "execution_count": 26,
   "id": "63bffacd",
   "metadata": {},
   "outputs": [
    {
     "data": {
      "text/html": [
       "<div>\n",
       "<style scoped>\n",
       "    .dataframe tbody tr th:only-of-type {\n",
       "        vertical-align: middle;\n",
       "    }\n",
       "\n",
       "    .dataframe tbody tr th {\n",
       "        vertical-align: top;\n",
       "    }\n",
       "\n",
       "    .dataframe thead th {\n",
       "        text-align: right;\n",
       "    }\n",
       "</style>\n",
       "<table border=\"1\" class=\"dataframe\">\n",
       "  <thead>\n",
       "    <tr style=\"text-align: right;\">\n",
       "      <th></th>\n",
       "      <th>JOBID</th>\n",
       "      <th>PARTITION</th>\n",
       "      <th>NAME</th>\n",
       "      <th>USER</th>\n",
       "      <th>ST</th>\n",
       "      <th>TIME</th>\n",
       "      <th>NODES</th>\n",
       "      <th>NODELIST(REASON)</th>\n",
       "    </tr>\n",
       "  </thead>\n",
       "  <tbody>\n",
       "    <tr>\n",
       "      <th>0</th>\n",
       "      <td>16687014</td>\n",
       "      <td>plgrid</td>\n",
       "      <td>gaia</td>\n",
       "      <td>plgwbart</td>\n",
       "      <td>R</td>\n",
       "      <td>19:47</td>\n",
       "      <td>1</td>\n",
       "      <td>ac0767</td>\n",
       "    </tr>\n",
       "    <tr>\n",
       "      <th>1</th>\n",
       "      <td>16680345</td>\n",
       "      <td>plgrid</td>\n",
       "      <td>cartpole</td>\n",
       "      <td>plgjakub</td>\n",
       "      <td>R</td>\n",
       "      <td>2:42:49</td>\n",
       "      <td>1</td>\n",
       "      <td>ac0410</td>\n",
       "    </tr>\n",
       "    <tr>\n",
       "      <th>2</th>\n",
       "      <td>16685977_0</td>\n",
       "      <td>plgrid</td>\n",
       "      <td>run_arra</td>\n",
       "      <td>plgboksa</td>\n",
       "      <td>R</td>\n",
       "      <td>44:17</td>\n",
       "      <td>1</td>\n",
       "      <td>ac0590</td>\n",
       "    </tr>\n",
       "    <tr>\n",
       "      <th>3</th>\n",
       "      <td>16685977_1</td>\n",
       "      <td>plgrid</td>\n",
       "      <td>run_arra</td>\n",
       "      <td>plgboksa</td>\n",
       "      <td>R</td>\n",
       "      <td>44:17</td>\n",
       "      <td>1</td>\n",
       "      <td>ac0590</td>\n",
       "    </tr>\n",
       "    <tr>\n",
       "      <th>4</th>\n",
       "      <td>16685977_2</td>\n",
       "      <td>plgrid</td>\n",
       "      <td>run_arra</td>\n",
       "      <td>plgboksa</td>\n",
       "      <td>R</td>\n",
       "      <td>44:17</td>\n",
       "      <td>1</td>\n",
       "      <td>ac0590</td>\n",
       "    </tr>\n",
       "    <tr>\n",
       "      <th>5</th>\n",
       "      <td>16685977_3</td>\n",
       "      <td>plgrid</td>\n",
       "      <td>run_arra</td>\n",
       "      <td>plgboksa</td>\n",
       "      <td>R</td>\n",
       "      <td>44:17</td>\n",
       "      <td>1</td>\n",
       "      <td>ac0590</td>\n",
       "    </tr>\n",
       "    <tr>\n",
       "      <th>6</th>\n",
       "      <td>16685977_4</td>\n",
       "      <td>plgrid</td>\n",
       "      <td>run_arra</td>\n",
       "      <td>plgboksa</td>\n",
       "      <td>R</td>\n",
       "      <td>44:17</td>\n",
       "      <td>1</td>\n",
       "      <td>ac0590</td>\n",
       "    </tr>\n",
       "    <tr>\n",
       "      <th>7</th>\n",
       "      <td>16686032</td>\n",
       "      <td>plgrid-gp</td>\n",
       "      <td>bash</td>\n",
       "      <td>plgdwole</td>\n",
       "      <td>R</td>\n",
       "      <td>43:39</td>\n",
       "      <td>1</td>\n",
       "      <td>ag0009</td>\n",
       "    </tr>\n",
       "    <tr>\n",
       "      <th>8</th>\n",
       "      <td>16686398</td>\n",
       "      <td>plgrid-no</td>\n",
       "      <td>bash</td>\n",
       "      <td>plgabist</td>\n",
       "      <td>R</td>\n",
       "      <td>34:12</td>\n",
       "      <td>1</td>\n",
       "      <td>ac0787</td>\n",
       "    </tr>\n",
       "  </tbody>\n",
       "</table>\n",
       "</div>"
      ],
      "text/plain": [
       "        JOBID  PARTITION      NAME      USER ST     TIME  NODES  \\\n",
       "0    16687014     plgrid      gaia  plgwbart  R    19:47      1   \n",
       "1    16680345     plgrid  cartpole  plgjakub  R  2:42:49      1   \n",
       "2  16685977_0     plgrid  run_arra  plgboksa  R    44:17      1   \n",
       "3  16685977_1     plgrid  run_arra  plgboksa  R    44:17      1   \n",
       "4  16685977_2     plgrid  run_arra  plgboksa  R    44:17      1   \n",
       "5  16685977_3     plgrid  run_arra  plgboksa  R    44:17      1   \n",
       "6  16685977_4     plgrid  run_arra  plgboksa  R    44:17      1   \n",
       "7    16686032  plgrid-gp      bash  plgdwole  R    43:39      1   \n",
       "8    16686398  plgrid-no      bash  plgabist  R    34:12      1   \n",
       "\n",
       "  NODELIST(REASON)  \n",
       "0           ac0767  \n",
       "1           ac0410  \n",
       "2           ac0590  \n",
       "3           ac0590  \n",
       "4           ac0590  \n",
       "5           ac0590  \n",
       "6           ac0590  \n",
       "7           ag0009  \n",
       "8           ac0787  "
      ]
     },
     "execution_count": 26,
     "metadata": {},
     "output_type": "execute_result"
    }
   ],
   "source": [
    "%squeue"
   ]
  },
  {
   "cell_type": "code",
   "execution_count": 28,
   "id": "0a04e80c",
   "metadata": {},
   "outputs": [
    {
     "name": "stdout",
     "output_type": "stream",
     "text": [
      "This is the example job output c:\n",
      "\n"
     ]
    }
   ],
   "source": [
    "# to access the result just read the output file\n",
    "with open(\"slurm-16687800.out\") as f:\n",
    "    print(f.read())"
   ]
  },
  {
   "cell_type": "markdown",
   "id": "106d3152",
   "metadata": {},
   "source": [
    "# Running code without file\n",
    "This is not possible with the current version of package. There is option however to use built in magic commands to not leave the notebook anyway"
   ]
  },
  {
   "cell_type": "code",
   "execution_count": 30,
   "id": "7a2dda74",
   "metadata": {},
   "outputs": [
    {
     "name": "stdout",
     "output_type": "stream",
     "text": [
      "Overwriting example_job_2.py\n"
     ]
    }
   ],
   "source": [
    "%%writefile example_job_2.py\n",
    "# we can use %%writefile magic to save the cell contents into a file\n",
    "# after that we can run the created file like before\n",
    "\n",
    "print(\"This is a script created inside notebook\")"
   ]
  },
  {
   "cell_type": "code",
   "execution_count": 31,
   "id": "120c43de",
   "metadata": {},
   "outputs": [
    {
     "data": {
      "text/plain": [
       "('This is a script created inside notebook\\n',\n",
       " 'srun: job 16689478 queued and waiting for resources\\nsrun: job 16689478 has been allocated resources\\n')"
      ]
     },
     "execution_count": 31,
     "metadata": {},
     "output_type": "execute_result"
    }
   ],
   "source": [
    "%srun --nodes=1 --ntasks=1 --time=00:00:01 --partition=plgrid-testing --account=plglscclass24-cpu venv/bin/python3 example_job_2.py"
   ]
  },
  {
   "cell_type": "markdown",
   "id": "7774a699",
   "metadata": {},
   "source": [
    "# Interacting with input and output\n",
    "For now there is no good way to pass input to the job directly. The only option is to use files. The output from srun however is captured which enables some possibilities."
   ]
  },
  {
   "cell_type": "code",
   "execution_count": 37,
   "id": "ff2acc6b",
   "metadata": {},
   "outputs": [
    {
     "name": "stdout",
     "output_type": "stream",
     "text": [
      "Overwriting example_job_3.py\n"
     ]
    }
   ],
   "source": [
    "%%writefile example_job_3.py\n",
    "\n",
    "import pandas as pd\n",
    "import numpy as np\n",
    "import pickle\n",
    "import base64\n",
    "\n",
    "NUM_ROWS = 1_000_000\n",
    "\n",
    "data = {\n",
    "    'value': np.random.rand(NUM_ROWS) * 100,\n",
    "    'category': np.random.choice(['A', 'B', 'C', 'D'], size=NUM_ROWS)\n",
    "}\n",
    "df = pd.DataFrame(data)\n",
    "\n",
    "result_series = df.groupby('category').agg({'value': 'mean'})\n",
    "\n",
    "result = pickle.dumps(result_series)\n",
    "print(base64.b64encode(result).decode('utf-8'))\n"
   ]
  },
  {
   "cell_type": "markdown",
   "id": "570057cc",
   "metadata": {},
   "source": [
    "We cannot pass the objects from jobs directly to python since we need to go through stdout. To successfuly pass an object we can use pickle and base64 encoding. After saving the result to variable we can easily access the result."
   ]
  },
  {
   "cell_type": "code",
   "execution_count": 38,
   "id": "e49f2b99",
   "metadata": {},
   "outputs": [],
   "source": [
    "result = %srun --nodes=1 --ntasks=1 --time=00:01:00 --partition=plgrid-testing --account=plglscclass24-cpu venv/bin/python3 example_job_3.py"
   ]
  },
  {
   "cell_type": "code",
   "execution_count": 39,
   "id": "61080cbf",
   "metadata": {},
   "outputs": [],
   "source": [
    "import pandas as pd\n",
    "import pickle\n",
    "import io\n",
    "import base64\n",
    "\n",
    "decoded_pickled_bytes = base64.b64decode(result[0].encode('utf-8'))\n",
    "byte_stream = io.BytesIO(decoded_pickled_bytes)\n",
    "df = pickle.load(byte_stream)"
   ]
  },
  {
   "cell_type": "code",
   "execution_count": 42,
   "id": "2e228764",
   "metadata": {},
   "outputs": [
    {
     "data": {
      "text/html": [
       "<div>\n",
       "<style scoped>\n",
       "    .dataframe tbody tr th:only-of-type {\n",
       "        vertical-align: middle;\n",
       "    }\n",
       "\n",
       "    .dataframe tbody tr th {\n",
       "        vertical-align: top;\n",
       "    }\n",
       "\n",
       "    .dataframe thead th {\n",
       "        text-align: right;\n",
       "    }\n",
       "</style>\n",
       "<table border=\"1\" class=\"dataframe\">\n",
       "  <thead>\n",
       "    <tr style=\"text-align: right;\">\n",
       "      <th></th>\n",
       "      <th>value</th>\n",
       "    </tr>\n",
       "    <tr>\n",
       "      <th>category</th>\n",
       "      <th></th>\n",
       "    </tr>\n",
       "  </thead>\n",
       "  <tbody>\n",
       "    <tr>\n",
       "      <th>A</th>\n",
       "      <td>49.973025</td>\n",
       "    </tr>\n",
       "    <tr>\n",
       "      <th>B</th>\n",
       "      <td>49.960188</td>\n",
       "    </tr>\n",
       "    <tr>\n",
       "      <th>C</th>\n",
       "      <td>49.928621</td>\n",
       "    </tr>\n",
       "    <tr>\n",
       "      <th>D</th>\n",
       "      <td>50.048835</td>\n",
       "    </tr>\n",
       "  </tbody>\n",
       "</table>\n",
       "</div>"
      ],
      "text/plain": [
       "              value\n",
       "category           \n",
       "A         49.973025\n",
       "B         49.960188\n",
       "C         49.928621\n",
       "D         50.048835"
      ]
     },
     "execution_count": 42,
     "metadata": {},
     "output_type": "execute_result"
    }
   ],
   "source": [
    "df"
   ]
  },
  {
   "cell_type": "markdown",
   "id": "66c43332",
   "metadata": {},
   "source": [
    "Additionaly the scripts that are being run can use imports and juypter python interpreter to extend their functionality. As an example one can even transfare whole script context back to the jupyter notebook."
   ]
  },
  {
   "cell_type": "code",
   "execution_count": 99,
   "id": "986a4b01",
   "metadata": {},
   "outputs": [
    {
     "name": "stdout",
     "output_type": "stream",
     "text": [
      "Overwriting example_job_4.py\n"
     ]
    }
   ],
   "source": [
    "%%writefile example_job_4.py\n",
    "\n",
    "import pandas as pd\n",
    "import numpy as np\n",
    "import pickle\n",
    "import base64\n",
    "from copy import deepcopy\n",
    "\n",
    "NUM_ROWS = 1_000_000\n",
    "\n",
    "data = {\n",
    "    'value': np.random.rand(NUM_ROWS) * 100,\n",
    "    'category': np.random.choice(['A', 'B', 'C', 'D'], size=NUM_ROWS)\n",
    "}\n",
    "df = pd.DataFrame(data)\n",
    "\n",
    "result_series = df.groupby('category').agg({'value': 'mean'})\n",
    "\n",
    "# --- Logic to pickle all relevant variables ---\n",
    "context = {}\n",
    "global_keys = deepcopy(list(globals().keys()))\n",
    "\n",
    "for k in global_keys:\n",
    "    if not k.startswith('__') and k != \"context\" and k!= \"global_keys\":\n",
    "        try:\n",
    "            context[k] = deepcopy(globals()[k])\n",
    "            print(f\"copied: {k}\", file=sys.stderr)\n",
    "        except:\n",
    "            ...\n",
    "\n",
    "try:\n",
    "    pickled_context = pickle.dumps(context)\n",
    "    encoded_context = base64.b64encode(pickled_context).decode('utf-8')\n",
    "    print(encoded_context)\n",
    "\n",
    "except Exception as e:\n",
    "    print(f\"An error occurred during pickling or encoding: {e}\", file=sys.stderr)"
   ]
  },
  {
   "cell_type": "code",
   "execution_count": 100,
   "id": "f9dfe4c0",
   "metadata": {},
   "outputs": [],
   "source": [
    "result = %srun --nodes=1 --ntasks=1 --time=00:00:10 --partition=plgrid-testing --account=plglscclass24-cpu venv/bin/python3 example_job_4.py"
   ]
  },
  {
   "cell_type": "code",
   "execution_count": 101,
   "id": "87919c33",
   "metadata": {},
   "outputs": [
    {
     "name": "stdout",
     "output_type": "stream",
     "text": [
      "srun: job 16690963 queued and waiting for resources\n",
      "srun: job 16690963 has been allocated resources\n",
      "\n"
     ]
    }
   ],
   "source": [
    "print(result[1])"
   ]
  },
  {
   "cell_type": "code",
   "execution_count": 103,
   "id": "9f63c6a1",
   "metadata": {},
   "outputs": [],
   "source": [
    "import pandas as pd\n",
    "import pickle\n",
    "import io\n",
    "import base64\n",
    "\n",
    "decoded_pickled_bytes = base64.b64decode(result[0].encode('utf-8'))\n",
    "byte_stream = io.BytesIO(decoded_pickled_bytes)\n",
    "loaded_context = pickle.load(byte_stream)\n",
    "\n",
    "for k, v in loaded_context.items():\n",
    "    globals()[k] = v"
   ]
  },
  {
   "cell_type": "markdown",
   "id": "276f3939",
   "metadata": {},
   "source": [
    "After using ```locals()``` to load the context we can use the variables inside the notebook"
   ]
  },
  {
   "cell_type": "code",
   "execution_count": 105,
   "id": "d4f6272e",
   "metadata": {},
   "outputs": [
    {
     "name": "stdout",
     "output_type": "stream",
     "text": [
      "1000000\n",
      "       value category\n",
      "0  41.642109        D\n",
      "1  52.184944        D\n",
      "2  95.215801        B\n",
      "3   3.803339        A\n",
      "4  24.473911        A\n"
     ]
    }
   ],
   "source": [
    "print(NUM_ROWS)\n",
    "print(df.head())"
   ]
  }
 ],
 "metadata": {
  "kernelspec": {
   "display_name": "Python 3 (ipykernel)",
   "language": "python",
   "name": "python3"
  },
  "language_info": {
   "codemirror_mode": {
    "name": "ipython",
    "version": 3
   },
   "file_extension": ".py",
   "mimetype": "text/x-python",
   "name": "python",
   "nbconvert_exporter": "python",
   "pygments_lexer": "ipython3",
   "version": "3.11.9"
  }
 },
 "nbformat": 4,
 "nbformat_minor": 5
}
